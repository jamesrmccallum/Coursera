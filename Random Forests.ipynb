{
 "cells": [
  {
   "cell_type": "markdown",
   "metadata": {},
   "source": [
    "# Random Forests"
   ]
  },
  {
   "cell_type": "markdown",
   "metadata": {},
   "source": [
    "Continuing with the NESARC dataset, and continuing to explore my initial hypothesis of a relationship between drinking to control social anxiety, and drinking to excess. \n",
    "\n",
    "In this analysis I will use a random forest classifier to attempt to find variables having a relationship with whether an individual has ever had a period where they drank more than intended (a binary, categorical outcome).\n",
    "\n",
    "My python code is below: "
   ]
  },
  {
   "cell_type": "markdown",
   "metadata": {},
   "source": [
    "## Data Management"
   ]
  },
  {
   "cell_type": "code",
   "execution_count": 1,
   "metadata": {
    "collapsed": false
   },
   "outputs": [
    {
     "name": "stdout",
     "output_type": "stream",
     "text": [
      "reading data file...\n"
     ]
    },
    {
     "data": {
      "text/plain": [
       "(527,)"
      ]
     },
     "execution_count": 1,
     "metadata": {},
     "output_type": "execute_result"
    }
   ],
   "source": [
    "from pandas import Series, DataFrame\n",
    "import pandas as pd\n",
    "import numpy as np\n",
    "import os\n",
    "import matplotlib.pylab as plt\n",
    "from sklearn.cross_validation import train_test_split\n",
    "from sklearn.tree import DecisionTreeClassifier\n",
    "from sklearn.metrics import classification_report\n",
    "import sklearn.metrics\n",
    "\n",
    "# bug fix for display formats to avoid run time errors - put after code for loading data above\n",
    "pd.set_option('display.float_format', lambda x:'%f'%x)\n",
    "pd.set_option('display.max_rows', None)\n",
    "\n",
    "os.chdir(\"/Users/jmccallum/GIT/Coursera/Coursera\")\n",
    "\n",
    "###### Data Shaping ############\n",
    "#Load the dataset\n",
    "\n",
    "print ('reading data file...')\n",
    "data = pd.read_csv('nesarc_pds.csv', low_memory=False)\n",
    "data.columns = map(str.upper, data.columns)\n",
    "\n",
    "# Current drinkers(CONSUMER  -  DRINKING STATUS ) Either 1 (yes) or 2(no) to (S7Q31A -  EVER DRANK ALCOHOL TO AVOID SOCIAL PHOBIA)\n",
    "drinkerstemp=data[(data['CONSUMER'] ==1) & ((data['S7Q31A']=='1') | (data['S7Q31A']=='2'))].dropna()\n",
    "\n",
    "\n",
    "#Keep only what's needed from the NESARC set\n",
    "drinkers = drinkerstemp[['AGE','S1Q1D5','SEX','S7Q31A','S2AQ8B','S2AQ8C',\n",
    "'S2AQ10','S2BQ1A2','S2BQ1A4','S2BQ1A7', 'S2BQ1A8','S2BQ3B', \n",
    "'S7Q1','S7Q2','S7Q3','S7Q4A1','S7Q4A2','S7Q4A3','S7Q4A4','S7Q4A5','S7Q4A6','S7Q4A7','S7Q4A8','S7Q4A9',\n",
    "'S7Q4A10','S7Q4A11','S7Q4A12','S7Q4A13','S7Q4B','S7Q5','S7Q6']]\n",
    "\n",
    "\n",
    "del drinkerstemp \n",
    "del data\n",
    "\n",
    "# Convert columns  to numeric and replace 99's and nulls\n",
    "for col in drinkers: \n",
    "    drinkers[col] = pd.to_numeric(drinkers[col],errors='coerce')\n",
    "    drinkers[col]=drinkers[col].replace(99 ,np.nan).fillna(np.nan)\n",
    "\n",
    "# Set missing values to Nan\n",
    "for col in ['S2BQ1A2','S2BQ1A4','S2BQ1A7']: \n",
    "    drinkers[col]=drinkers[col].replace(9 ,np.nan).fillna(np.nan)\n",
    "\n",
    "#Binary variables are all of the form (1 -yes,2 - no,9 -unkown,NA) - this fixes them\n",
    "mapper = ({1:1,2:0})\n",
    "for col in ['SEX','S1Q1D5','S7Q31A','S7Q1','S7Q2','S7Q3',\n",
    "            'S7Q4A1','S7Q4A2','S7Q4A3','S7Q4A4','S2BQ1A2','S7Q4A5',\n",
    "            'S7Q4A6','S7Q4A7','S7Q4A8','S7Q4A9','S7Q4A10',\n",
    "            'S7Q4A11','S7Q4A12','S7Q4A13','S7Q4B','S7Q5','S7Q6']:\n",
    "    drinkers[col] = drinkers[col].map(mapper)\n",
    "\n",
    "del col\n",
    "del mapper\n",
    "\n",
    "drinkers = drinkers.dropna()\n",
    "\n",
    "drinkers['UNDER30'] = drinkers['AGE'].apply(lambda x: 1 if x<30 else 0)\n",
    "\n",
    "drinkers['S7Q31A'].value_counts()\n",
    "\n"
   ]
  },
  {
   "cell_type": "markdown",
   "metadata": {},
   "source": [
    "## Configure model data"
   ]
  },
  {
   "cell_type": "markdown",
   "metadata": {},
   "source": [
    "Here I will select the predictor and target variables from my cleaned and managed data, and will fork my dataset into testing and training sets "
   ]
  },
  {
   "cell_type": "code",
   "execution_count": 27,
   "metadata": {
    "collapsed": false
   },
   "outputs": [
    {
     "data": {
      "text/plain": [
       "(527,)"
      ]
     },
     "execution_count": 27,
     "metadata": {},
     "output_type": "execute_result"
    }
   ],
   "source": [
    "predictors=drinkers[['SEX','S1Q1D5','UNDER30','S2BQ1A2','S7Q31A']]\n",
    "\n",
    "#Ever have a period where drank more than intended\n",
    "targets = drinkers['S2BQ1A7']\n",
    "\n",
    "pred_train, pred_test, tar_train, tar_test  =   train_test_split(predictors, targets, test_size=.4)\n",
    "\n",
    "pred_train.shape\n",
    "pred_test.shape\n",
    "tar_train.shape\n",
    "tar_test.shape"
   ]
  },
  {
   "cell_type": "markdown",
   "metadata": {},
   "source": [
    "## Model fitting and diagnostics"
   ]
  },
  {
   "cell_type": "code",
   "execution_count": 22,
   "metadata": {
    "collapsed": false
   },
   "outputs": [],
   "source": [
    "from sklearn import datasets\n",
    "from sklearn.ensemble import ExtraTreesClassifier, RandomForestClassifier\n",
    "\n",
    "classifier = RandomForestClassifier(n_estimators=25)\n",
    "classifier = classifier.fit(pred_train,tar_train)\n",
    "\n",
    "predictions = classifier.predict(pred_test)"
   ]
  },
  {
   "cell_type": "code",
   "execution_count": 23,
   "metadata": {
    "collapsed": false
   },
   "outputs": [
    {
     "data": {
      "text/plain": [
       "array([[331,  11],\n",
       "       [181,   4]])"
      ]
     },
     "execution_count": 23,
     "metadata": {},
     "output_type": "execute_result"
    }
   ],
   "source": [
    "sklearn.metrics.confusion_matrix(tar_test,predictions)"
   ]
  },
  {
   "cell_type": "code",
   "execution_count": 24,
   "metadata": {
    "collapsed": false
   },
   "outputs": [
    {
     "data": {
      "text/plain": [
       "0.635673624288425"
      ]
     },
     "execution_count": 24,
     "metadata": {},
     "output_type": "execute_result"
    }
   ],
   "source": [
    "sklearn.metrics.accuracy_score(tar_test,predictions)"
   ]
  },
  {
   "cell_type": "code",
   "execution_count": 25,
   "metadata": {
    "collapsed": false
   },
   "outputs": [
    {
     "name": "stdout",
     "output_type": "stream",
     "text": [
      "[ 0.05546196  0.2072173   0.11988485  0.35735228  0.26008361]\n"
     ]
    }
   ],
   "source": [
    "model = ExtraTreesClassifier()\n",
    "model.fit(pred_train,tar_train)\n",
    "print(model.feature_importances_)"
   ]
  },
  {
   "cell_type": "code",
   "execution_count": 26,
   "metadata": {
    "collapsed": false
   },
   "outputs": [
    {
     "data": {
      "text/plain": [
       "[<matplotlib.lines.Line2D at 0x117488f98>]"
      ]
     },
     "execution_count": 26,
     "metadata": {},
     "output_type": "execute_result"
    },
    {
     "data": {
      "image/png": "[encoded data removed]",
      "text/plain": [
       "<matplotlib.figure.Figure at 0x1187e41d0>"
      ]
     },
     "metadata": {},
     "output_type": "display_data"
    }
   ],
   "source": [
    "trees = range(25)\n",
    "accuracy=np.zeros(25)\n",
    "\n",
    "%matplotlib inline\n",
    "\n",
    "for idx in range(len(trees)):\n",
    "    classifier=RandomForestClassifier(n_estimators=idx+1)\n",
    "    classifier=classifier.fit(pred_train,tar_train)\n",
    "    predictions=classifier.predict(pred_test)\n",
    "    accuracy[idx]=sklearn.metrics.accuracy_score(tar_test,predictions)\n",
    "    \n",
    "plt.cla()\n",
    "plt.plot(trees,accuracy)"
   ]
  },
  {
   "cell_type": "code",
   "execution_count": null,
   "metadata": {
    "collapsed": true
   },
   "outputs": [],
   "source": []
  }
 ],
 "metadata": {
  "kernelspec": {
   "display_name": "Python 3",
   "language": "python",
   "name": "python3"
  },
  "language_info": {
   "codemirror_mode": {
    "name": "ipython",
    "version": 3
   },
   "file_extension": ".py",
   "mimetype": "text/x-python",
   "name": "python",
   "nbconvert_exporter": "python",
   "pygments_lexer": "ipython3",
   "version": "3.5.1"
  }
 },
 "nbformat": 4,
 "nbformat_minor": 0
}
