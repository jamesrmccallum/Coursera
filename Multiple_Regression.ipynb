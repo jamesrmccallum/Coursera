{
 "cells": [
  {
   "cell_type": "code",
   "execution_count": null,
   "metadata": {
    "collapsed": true
   },
   "outputs": [],
   "source": [
    "import pandas as pd \n",
    "import numpy as np\n",
    "import matplotlib.pyplot as plt \n",
    "import statsmodels.formula.api as smf\n",
    "import scipy.stats as stats \n",
    "import seaborn as sns\n",
    "\n",
    "print ('reading data file...')\n",
    "data = pd.read_csv('nesarc_pds.csv', low_memory=False)\n",
    "data.columns = map(str.upper, data.columns)\n",
    "\n",
    "# bug fix for display formats to avoid run time errors - put after code for loading data above\n",
    "pd.set_option('display.float_format', lambda x:'%f'%x)\n",
    "pd.set_option('display.max_rows', None)\n",
    "# Current drinkers(CONSUMER  -  DRINKING STATUS ) Either 1 (yes) or 2(no) to (S7Q31A -  EVER DRANK ALCOHOL TO AVOID SOCIAL PHOBIA)\n",
    "drinkerstemp=data[(data['CONSUMER'] ==1) & ((data['S7Q31A']=='1') | (data['S7Q31A']=='2'))]\n",
    "\n",
    "#Get rid of everything unneeded \n",
    "drinkers = drinkerstemp[['SEX','S7Q31A','S2AQ8B','S2AQ8C','S2AQ10','S2BQ1A2','S2BQ1A4','S2BQ1A7', 'S2BQ1A8','S2BQ3B']].copy()\n",
    "\n",
    "del drinkerstemp \n",
    "del data\n",
    "\n",
    "for col in drinkers: # Convert columns to numeric and replace 99's and nulls\n",
    "    drinkers[col] = drinkers[col].convert_objects(convert_numeric=True)\n",
    "    drinkers[col]=drinkers[col].replace(99 ,np.nan).fillna(np.nan)\n",
    "\n",
    "for col in ['S2BQ1A2','S2BQ1A4','S2BQ1A7']: # Set missing values to Nan\n",
    "    drinkers[col]=drinkers[col].replace(9 ,np.nan).fillna(np.nan)\n",
    "    \n",
    "drinkers['S7Q31A'] = drinkers['S7Q31A'].map({1:1,2:0})\n",
    "#Assign \n",
    "drinkers['DRUNK_CNT'] = drinkers['S2AQ10'].map({1:10,2:9,3:8,4:7,5:6,6:5,7:4,8:3,9:2,10:1})\n",
    "    \n",
    "#Testing a linear regression model\n",
    "    \n",
    "print(drinkers['S7Q31A'].value_counts())\n",
    "    \n",
    "lin_reg = smf.ols('S2AQ8B ~ S7Q31A',data=drinkers).fit()\n",
    "print(lin_reg.summary())   "
   ]
  },
  {
   "cell_type": "code",
   "execution_count": 2,
   "metadata": {
    "collapsed": false
   },
   "outputs": [
    {
     "data": {
      "text/html": [
       "<table class=\"simpletable\">\n",
       "<caption>OLS Regression Results</caption>\n",
       "<tr>\n",
       "  <th>Dep. Variable:</th>         <td>S2AQ8B</td>      <th>  R-squared:         </th> <td>   0.032</td> \n",
       "</tr>\n",
       "<tr>\n",
       "  <th>Model:</th>                   <td>OLS</td>       <th>  Adj. R-squared:    </th> <td>   0.032</td> \n",
       "</tr>\n",
       "<tr>\n",
       "  <th>Method:</th>             <td>Least Squares</td>  <th>  F-statistic:       </th> <td>   115.0</td> \n",
       "</tr>\n",
       "<tr>\n",
       "  <th>Date:</th>             <td>Sat, 30 Apr 2016</td> <th>  Prob (F-statistic):</th> <td>1.98e-26</td> \n",
       "</tr>\n",
       "<tr>\n",
       "  <th>Time:</th>                 <td>21:49:07</td>     <th>  Log-Likelihood:    </th> <td> -8702.8</td> \n",
       "</tr>\n",
       "<tr>\n",
       "  <th>No. Observations:</th>      <td>  3491</td>      <th>  AIC:               </th> <td>1.741e+04</td>\n",
       "</tr>\n",
       "<tr>\n",
       "  <th>Df Residuals:</th>          <td>  3489</td>      <th>  BIC:               </th> <td>1.742e+04</td>\n",
       "</tr>\n",
       "<tr>\n",
       "  <th>Df Model:</th>              <td>     1</td>      <th>                     </th>     <td> </td>    \n",
       "</tr>\n",
       "<tr>\n",
       "  <th>Covariance Type:</th>      <td>nonrobust</td>    <th>                     </th>     <td> </td>    \n",
       "</tr>\n",
       "</table>\n",
       "<table class=\"simpletable\">\n",
       "<tr>\n",
       "      <td></td>         <th>coef</th>     <th>std err</th>      <th>t</th>      <th>P>|t|</th> <th>[95.0% Conf. Int.]</th> \n",
       "</tr>\n",
       "<tr>\n",
       "  <th>Intercept</th> <td>    2.3786</td> <td>    0.053</td> <td>   44.675</td> <td> 0.000</td> <td>    2.274     2.483</td>\n",
       "</tr>\n",
       "<tr>\n",
       "  <th>S7Q31A</th>    <td>    1.5614</td> <td>    0.146</td> <td>   10.726</td> <td> 0.000</td> <td>    1.276     1.847</td>\n",
       "</tr>\n",
       "</table>\n",
       "<table class=\"simpletable\">\n",
       "<tr>\n",
       "  <th>Omnibus:</th>       <td>6204.398</td> <th>  Durbin-Watson:     </th>   <td>   1.998</td>  \n",
       "</tr>\n",
       "<tr>\n",
       "  <th>Prob(Omnibus):</th>  <td> 0.000</td>  <th>  Jarque-Bera (JB):  </th> <td>15197795.067</td>\n",
       "</tr>\n",
       "<tr>\n",
       "  <th>Skew:</th>           <td>12.232</td>  <th>  Prob(JB):          </th>   <td>    0.00</td>  \n",
       "</tr>\n",
       "<tr>\n",
       "  <th>Kurtosis:</th>       <td>325.310</td> <th>  Cond. No.          </th>   <td>    3.00</td>  \n",
       "</tr>\n",
       "</table>"
      ],
      "text/plain": [
       "<class 'statsmodels.iolib.summary.Summary'>\n",
       "\"\"\"\n",
       "                            OLS Regression Results                            \n",
       "==============================================================================\n",
       "Dep. Variable:                 S2AQ8B   R-squared:                       0.032\n",
       "Model:                            OLS   Adj. R-squared:                  0.032\n",
       "Method:                 Least Squares   F-statistic:                     115.0\n",
       "Date:                Sat, 30 Apr 2016   Prob (F-statistic):           1.98e-26\n",
       "Time:                        21:49:07   Log-Likelihood:                -8702.8\n",
       "No. Observations:                3491   AIC:                         1.741e+04\n",
       "Df Residuals:                    3489   BIC:                         1.742e+04\n",
       "Df Model:                           1                                         \n",
       "Covariance Type:            nonrobust                                         \n",
       "==============================================================================\n",
       "                 coef    std err          t      P>|t|      [95.0% Conf. Int.]\n",
       "------------------------------------------------------------------------------\n",
       "Intercept      2.3786      0.053     44.675      0.000         2.274     2.483\n",
       "S7Q31A         1.5614      0.146     10.726      0.000         1.276     1.847\n",
       "==============================================================================\n",
       "Omnibus:                     6204.398   Durbin-Watson:                   1.998\n",
       "Prob(Omnibus):                  0.000   Jarque-Bera (JB):         15197795.067\n",
       "Skew:                          12.232   Prob(JB):                         0.00\n",
       "Kurtosis:                     325.310   Cond. No.                         3.00\n",
       "==============================================================================\n",
       "\n",
       "Warnings:\n",
       "[1] Standard Errors assume that the covariance matrix of the errors is correctly specified.\n",
       "\"\"\""
      ]
     },
     "execution_count": 2,
     "metadata": {},
     "output_type": "execute_result"
    }
   ],
   "source": [
    "lin_reg.summary()"
   ]
  },
  {
   "cell_type": "code",
   "execution_count": null,
   "metadata": {
    "collapsed": true
   },
   "outputs": [],
   "source": [
    "model2 = "
   ]
  }
 ],
 "metadata": {
  "kernelspec": {
   "display_name": "Python 3",
   "language": "python",
   "name": "python3"
  },
  "language_info": {
   "codemirror_mode": {
    "name": "ipython",
    "version": 3
   },
   "file_extension": ".py",
   "mimetype": "text/x-python",
   "name": "python",
   "nbconvert_exporter": "python",
   "pygments_lexer": "ipython3",
   "version": "3.5.1"
  }
 },
 "nbformat": 4,
 "nbformat_minor": 0
}
