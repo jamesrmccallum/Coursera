{
 "cells": [
  {
   "cell_type": "code",
   "execution_count": 1,
   "metadata": {
    "collapsed": true
   },
   "outputs": [
    {
     "name": "stdout",
     "output_type": "stream",
     "text": [
      "reading data file...\n",
      "data is 43093 rows long and 3008 columns wide\n",
      "reported use of alcohol for social anxiety in drinkers\n",
      "2    3046\n",
      "1     468\n",
      "Name: S7Q31A, dtype: int64\n",
      "Variables in crosstab form--------------------------------------------\n",
      "#S2AQ10 - HOW OFTEN DRANK ENOUGH TO FEEL INTOXICATED IN LAST 12 MONTHS\n",
      "S2AQ10  1.000000   2.000000   3.000000   4.000000   5.000000   6.000000   \\\n",
      "S7Q31A                                                                     \n",
      "NO_SA    0.003623   0.003294   0.004941   0.006588   0.016140   0.020751   \n",
      "SA       0.019272   0.019272   0.038544   0.036403   0.040685   0.040685   \n",
      "\n",
      "S2AQ10  7.000000   8.000000   9.000000   10.000000  11.000000  \n",
      "S7Q31A                                                         \n",
      "NO_SA    0.028327   0.017787   0.067523   0.192358   0.638669  \n",
      "SA       0.072805   0.066381   0.102784   0.244111   0.319058  \n",
      "#S2BQ1A2 - EVER HAD TO DRINK MORE TO GET THE EFFECT WANTED\n",
      "S2BQ1A2    1     2   9\n",
      "S7Q31A                \n",
      "NO_SA    487  2541  18\n",
      "SA       193   275   0\n",
      "#S2BQ1A4 - EVER INCREASE DRINKING BECAUSE AMOUNT FORMERLY CONSUMED NO LONGER GAVE DESIRED EFFECT\n",
      "S2BQ1A4    1     2  9\n",
      "S7Q31A               \n",
      "NO_SA    311  2727  8\n",
      "SA       164   304  0\n",
      "#S2BQ1A7 -  EVER HAVE PERIOD WHEN ENDED UP DRINKING MORE THAN INTENDED\n",
      "S2BQ1A7     1     2  9\n",
      "S7Q31A                \n",
      "NO_SA    1063  1981  2\n",
      "SA        337   130  1\n",
      "#S2BQ1A8 -  EVER HAVE PERIOD WHEN KEPT DRINKING LONGER THAN INTENDED\n",
      "S2BQ1A8    1     2  9\n",
      "S7Q31A               \n",
      "NO_SA    733  2308  5\n",
      "SA       274   193  1\n",
      "ABUSECNT_GRP #S2BQ3B BINNED INTO INTERVALS OF 10 \n",
      "ABUSECNT_GRP  (0, 10]  (10, 20]  (20, 30]  (30, 40]  (40, 50]  (50, 60]  \\\n",
      "S7Q31A                                                                    \n",
      "NO_SA            1031        11         3         0         2         0   \n",
      "SA                327        10         3         0         3         0   \n",
      "\n",
      "ABUSECNT_GRP  (60, 70]  (70, 80]  (80, 90]  \n",
      "S7Q31A                                      \n",
      "NO_SA                0         0         0  \n",
      "SA                   0         0         0  \n"
     ]
    },
    {
     "name": "stderr",
     "output_type": "stream",
     "text": [
      "C:\\Users\\James\\Anaconda3\\lib\\site-packages\\ipykernel\\__main__.py:31: FutureWarning: convert_objects is deprecated.  Use the data-type specific converters pd.to_datetime, pd.to_timedelta and pd.to_numeric.\n"
     ]
    }
   ],
   "source": [
    "import pandas as pd\n",
    "import numpy\n",
    "\n",
    "print ('reading data file...')\n",
    "data = pd.read_csv('nesarc_pds.csv', low_memory=False)\n",
    "\n",
    "#upper-case all DataFrame column names - place afer code for loading data aboave\n",
    "data.columns = map(str.upper, data.columns)\n",
    "\n",
    "# bug fix for display formats to avoid run time errors - put after code for loading data above\n",
    "pd.set_option('display.float_format', lambda x:'%f'%x)\n",
    "\n",
    "print ('data is ' +  str(len(data)) + ' rows long and ' + str(len(data.columns)) + ' columns wide')\n",
    "\n",
    "# Current drinkers(CONSUMER  -  DRINKING STATUS ) \n",
    "# Either YES or NO to (S7Q31A -  EVER DRANK ALCOHOL TO AVOID SOCIAL PHOBIA)\n",
    "drinkerstemp=data[(data['CONSUMER'] ==1) & ((data['S7Q31A']=='1') | (data['S7Q31A']=='2'))]\n",
    "\n",
    "#Get rid of everything unneeded\n",
    "#S2AQ10 - HOW OFTEN DRANK ENOUGH TO FEEL INTOXICATED IN LAST 12 MONTHS   \n",
    "#S2BQ1A2 -  EVER HAD TO DRINK MORE TO GET THE EFFECT WANTED\n",
    "#S2BQ1A4 -  EVER INCREASE DRINKING BECAUSE AMOUNT FORMERLY CONSUMED NO LONGER GAVE DESIRED EFFECT\n",
    "#S2BQ1A7 -  EVER HAVE PERIOD WHEN ENDED UP DRINKING MORE THAN INTENDED\n",
    "#S2BQ1A8 -  EVER HAVE PERIOD WHEN KEPT DRINKING LONGER THAN INTENDED \n",
    "#S2BQ3B -  NUMBER OF EPISODES OF ALCOHOL ABUSE \n",
    "drinkers = drinkerstemp[['S7Q31A','S2AQ10','S2BQ1A2','S2BQ1A4','S2BQ1A7', 'S2BQ1A8','S2BQ3B']].copy()\n",
    "del data\n",
    "\n",
    "# Convert columns to numeric\n",
    "for column in drinkers:\n",
    "    drinkers[column] = drinkers[column].convert_objects(convert_numeric=True)\n",
    "\n",
    "# Set missing values to Nan\n",
    "drinkers['S2AQ10']=drinkers['S2AQ10'].replace(99 ,numpy.nan).fillna(numpy.nan)\n",
    "drinkers['S2BQ3B']=drinkers['S2BQ3B'].replace(99 ,numpy.nan).fillna(numpy.nan)\n",
    "#Create a binned distribution of the number of incidents\n",
    "drinkers['ABUSECNT_GRP'] = pd.cut(drinkers['S2BQ3B'],[0,10,20,30,40,50,60,70,80,90])\n",
    "\n",
    "#Used alcohol as social anxiety help \n",
    "print ('reported use of alcohol for social anxiety in drinkers')\n",
    "print (drinkers['S7Q31A'].value_counts(sort=True) )\n",
    "\n",
    "# Fork drinkers into 2 data frames to compare those who drink to control anxiety, and don't  \n",
    "mapper = {1:'SA',2:'NO_SA'}\n",
    "drinkers['S7Q31A'] = drinkers['S7Q31A'].map(mapper)\n",
    "\n",
    "#Let's see those variables!\n",
    "print ('Variables in crosstab form--------------------------------------------')\n",
    "print('#S2AQ10 - HOW OFTEN DRANK ENOUGH TO FEEL INTOXICATED IN LAST 12 MONTHS')\n",
    "print (pd.crosstab(drinkers['S7Q31A'],drinkers['S2AQ10']).apply(lambda r: r/r.sum(), axis=1))\n",
    "print('#S2BQ1A2 - EVER HAD TO DRINK MORE TO GET THE EFFECT WANTED')\n",
    "print (pd.crosstab(drinkers['S7Q31A'],drinkers['S2BQ1A2']))\n",
    "print ('#S2BQ1A4 - EVER INCREASE DRINKING BECAUSE AMOUNT FORMERLY CONSUMED NO LONGER GAVE DESIRED EFFECT')\n",
    "print (pd.crosstab(drinkers['S7Q31A'],drinkers['S2BQ1A4']))\n",
    "print ('#S2BQ1A7 -  EVER HAVE PERIOD WHEN ENDED UP DRINKING MORE THAN INTENDED')\n",
    "print (pd.crosstab(drinkers['S7Q31A'],drinkers['S2BQ1A7']))\n",
    "print ('#S2BQ1A8 -  EVER HAVE PERIOD WHEN KEPT DRINKING LONGER THAN INTENDED') \n",
    "print (pd.crosstab(drinkers['S7Q31A'],drinkers['S2BQ1A8']))\n",
    "print ('ABUSECNT_GRP #S2BQ3B BINNED INTO INTERVALS OF 10 ') \n",
    "print (pd.crosstab(drinkers['S7Q31A'],drinkers['ABUSECNT_GRP']))"
   ]
  },
  {
   "cell_type": "code",
   "execution_count": null,
   "metadata": {
    "collapsed": true
   },
   "outputs": [],
   "source": []
  }
 ],
 "metadata": {
  "kernelspec": {
   "display_name": "Python 3",
   "language": "python",
   "name": "python3"
  },
  "language_info": {
   "codemirror_mode": {
    "name": "ipython",
    "version": 3
   },
   "file_extension": ".py",
   "mimetype": "text/x-python",
   "name": "python",
   "nbconvert_exporter": "python",
   "pygments_lexer": "ipython3",
   "version": "3.5.1"
  }
 },
 "nbformat": 4,
 "nbformat_minor": 0
}
